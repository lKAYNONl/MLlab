{
  "nbformat": 4,
  "nbformat_minor": 0,
  "metadata": {
    "colab": {
      "provenance": [],
      "authorship_tag": "ABX9TyMbFfXEp/14/7DQYCxkSSaW",
      "include_colab_link": true
    },
    "kernelspec": {
      "name": "python3",
      "display_name": "Python 3"
    },
    "language_info": {
      "name": "python"
    }
  },
  "cells": [
    {
      "cell_type": "markdown",
      "metadata": {
        "id": "view-in-github",
        "colab_type": "text"
      },
      "source": [
        "<a href=\"https://colab.research.google.com/github/lKAYNONl/MLlab/blob/main/lab3.ipynb\" target=\"_parent\"><img src=\"https://colab.research.google.com/assets/colab-badge.svg\" alt=\"Open In Colab\"/></a>"
      ]
    },
    {
      "cell_type": "code",
      "metadata": {
        "id": "NHdsWgluPj3B"
      },
      "source": [
        "import pandas as pd\n",
        "import seaborn as sb\n",
        "import matplotlib.pyplot as plt\n",
        "\n",
        "import numpy as np\n",
        "\n",
        "from sklearn.metrics import classification_report, accuracy_score\n",
        "from keras.preprocessing.image import ImageDataGenerator"
      ],
      "execution_count": null,
      "outputs": []
    },
    {
      "cell_type": "markdown",
      "metadata": {
        "id": "jjclxbREPKGz"
      },
      "source": [
        "# Скачать данные"
      ]
    },
    {
      "cell_type": "code",
      "metadata": {
        "id": "H-2pkhAWGjGd"
      },
      "source": [
        "from sklearn.datasets import fetch_openml\n",
        "data = fetch_openml('mnist_784', version=1, cache=True)\n",
        "\n",
        "# загрузим датасет MNIST\n",
        "# подробнее: https://ru.wikipedia.org/wiki/MNIST_(база_данных)"
      ],
      "execution_count": null,
      "outputs": []
    },
    {
      "cell_type": "code",
      "metadata": {
        "id": "H8qpDvVNGv8C"
      },
      "source": [
        "X = data['data']\n",
        "y = data['target']"
      ],
      "execution_count": null,
      "outputs": []
    },
    {
      "cell_type": "code",
      "metadata": {
        "id": "4Q5SzKekG5LO",
        "colab": {
          "base_uri": "https://localhost:8080/"
        },
        "outputId": "bf519c11-fe1f-4ada-c91c-ebd6454badc0"
      },
      "source": [
        "# количество изображений и размерность вектора, в который развёрнуто изображение \n",
        "data['data'].shape"
      ],
      "execution_count": null,
      "outputs": [
        {
          "output_type": "execute_result",
          "data": {
            "text/plain": [
              "(70000, 784)"
            ]
          },
          "metadata": {
            "tags": []
          },
          "execution_count": 4
        }
      ]
    },
    {
      "cell_type": "code",
      "metadata": {
        "id": "gK7fYQ9WHlr7",
        "colab": {
          "base_uri": "https://localhost:8080/",
          "height": 863
        },
        "outputId": "734dc27f-2b55-4c7a-b941-53bbd61e723c"
      },
      "source": [
        "for i in range(3):\n",
        "  # номер изображения в датасете\n",
        "  n = np.random.randint(0, X.shape[0] )\n",
        "  # превратим вектор из 768 элементов в матрицу 28х28 и покажим как изображение\n",
        "  plt.imshow( X[n].reshape(28, 28), cmap='gray' )\n",
        "  plt.show()\n",
        "  print( y[n] )\n",
        "  print()"
      ],
      "execution_count": null,
      "outputs": [
        {
          "output_type": "display_data",
          "data": {
            "image/png": "[encoded data removed]",
            "text/plain": [
              "<Figure size 432x288 with 1 Axes>"
            ]
          },
          "metadata": {
            "tags": [],
            "needs_background": "light"
          }
        },
        {
          "output_type": "stream",
          "text": [
            "0\n",
            "\n"
          ],
          "name": "stdout"
        },
        {
          "output_type": "display_data",
          "data": {
            "image/png": "[encoded data removed]",
            "text/plain": [
              "<Figure size 432x288 with 1 Axes>"
            ]
          },
          "metadata": {
            "tags": [],
            "needs_background": "light"
          }
        },
        {
          "output_type": "stream",
          "text": [
            "0\n",
            "\n"
          ],
          "name": "stdout"
        },
        {
          "output_type": "display_data",
          "data": {
            "image/png": "[encoded data removed]",
            "text/plain": [
              "<Figure size 432x288 with 1 Axes>"
            ]
          },
          "metadata": {
            "tags": [],
            "needs_background": "light"
          }
        },
        {
          "output_type": "stream",
          "text": [
            "5\n",
            "\n"
          ],
          "name": "stdout"
        }
      ]
    },
    {
      "cell_type": "markdown",
      "metadata": {
        "id": "uPZWK2k9PeRp"
      },
      "source": [
        "# Подготовка и предварительный анализ данных "
      ]
    },
    {
      "cell_type": "code",
      "metadata": {
        "id": "ErWmMS_HPr0w",
        "colab": {
          "base_uri": "https://localhost:8080/"
        },
        "outputId": "e3d9b221-602b-4e4b-eda2-6e66c3c090cf"
      },
      "source": [
        "# классы (они записаны в строках, переведём в числа)\n",
        "y = y.astype(np.int8)\n",
        "y"
      ],
      "execution_count": null,
      "outputs": [
        {
          "output_type": "execute_result",
          "data": {
            "text/plain": [
              "array([5, 0, 4, ..., 4, 5, 6], dtype=int8)"
            ]
          },
          "metadata": {
            "tags": []
          },
          "execution_count": 6
        }
      ]
    },
    {
      "cell_type": "code",
      "metadata": {
        "id": "M29mbRPsQEle",
        "colab": {
          "base_uri": "https://localhost:8080/"
        },
        "outputId": "066c2c4c-65ef-42e4-a858-c2f613c304c9"
      },
      "source": [
        "# матрицы (ч\\б. изображения)\n",
        "X"
      ],
      "execution_count": null,
      "outputs": [
        {
          "output_type": "execute_result",
          "data": {
            "text/plain": [
              "array([[0., 0., 0., ..., 0., 0., 0.],\n",
              "       [0., 0., 0., ..., 0., 0., 0.],\n",
              "       [0., 0., 0., ..., 0., 0., 0.],\n",
              "       ...,\n",
              "       [0., 0., 0., ..., 0., 0., 0.],\n",
              "       [0., 0., 0., ..., 0., 0., 0.],\n",
              "       [0., 0., 0., ..., 0., 0., 0.]])"
            ]
          },
          "metadata": {
            "tags": []
          },
          "execution_count": 9
        }
      ]
    },
    {
      "cell_type": "code",
      "metadata": {
        "id": "yhVodj5lQJTt",
        "colab": {
          "base_uri": "https://localhost:8080/",
          "height": 461
        },
        "outputId": "e79d7924-3538-46aa-a16e-8f9743941ba5"
      },
      "source": [
        "plt.figure(figsize=(12,7))\n",
        "plt.title('Размер классов')\n",
        "sb.histplot(y, discrete=True)"
      ],
      "execution_count": null,
      "outputs": [
        {
          "output_type": "execute_result",
          "data": {
            "text/plain": [
              "<matplotlib.axes._subplots.AxesSubplot at 0x7fdf751a8d90>"
            ]
          },
          "metadata": {
            "tags": []
          },
          "execution_count": 10
        },
        {
          "output_type": "display_data",
          "data": {
            "image/png": "[encoded data removed]",
            "text/plain": [
              "<Figure size 864x504 with 1 Axes>"
            ]
          },
          "metadata": {
            "tags": [],
            "needs_background": "light"
          }
        }
      ]
    },
    {
      "cell_type": "code",
      "metadata": {
        "id": "XAH3-t3HQ5Ry",
        "colab": {
          "base_uri": "https://localhost:8080/"
        },
        "outputId": "1f772a4f-1604-4743-d975-a327758403c5"
      },
      "source": [
        "from sklearn.model_selection import train_test_split\n",
        "\n",
        "# часть оставим для финальной офенки модели\n",
        "X_train, X_test, y_train, y_test = train_test_split(X, y, \n",
        "                                                    test_size=0.2, random_state = 24, shuffle=True)\n",
        "\n",
        "print(f\"трейн X: {X_train.shape[0]:d}\" )\n",
        "print(f\"трейн Y: {y_train.shape[0]:d}\" )\n",
        "print(f\"тест X: {X_test.shape[0]:d}\" )\n",
        "print(f\"тест Y: {y_test.shape[0]:d}\" )"
      ],
      "execution_count": null,
      "outputs": [
        {
          "output_type": "stream",
          "text": [
            "трейн X: 56000\n",
            "трейн Y: 56000\n",
            "тест X: 14000\n",
            "тест Y: 14000\n"
          ],
          "name": "stdout"
        }
      ]
    },
    {
      "cell_type": "code",
      "metadata": {
        "id": "UkLuBqHHN2mZ",
        "colab": {
          "base_uri": "https://localhost:8080/",
          "height": 461
        },
        "outputId": "54746fd8-f6e8-4f38-ce58-7583dd6a20d0"
      },
      "source": [
        "plt.figure(figsize=(12,7))\n",
        "plt.title('Размер классов в тесте')\n",
        "sb.histplot(y_test, discrete=True)"
      ],
      "execution_count": null,
      "outputs": [
        {
          "output_type": "execute_result",
          "data": {
            "text/plain": [
              "<matplotlib.axes._subplots.AxesSubplot at 0x7fdf751d3f50>"
            ]
          },
          "metadata": {
            "tags": []
          },
          "execution_count": 12
        },
        {
          "output_type": "display_data",
          "data": {
            "image/png": "[encoded data removed]",
            "text/plain": [
              "<Figure size 864x504 with 1 Axes>"
            ]
          },
          "metadata": {
            "tags": [],
            "needs_background": "light"
          }
        }
      ]
    },
    {
      "cell_type": "markdown",
      "metadata": {
        "id": "xSI8gjR-QftY"
      },
      "source": [
        "# Модели"
      ]
    },
    {
      "cell_type": "markdown",
      "metadata": {
        "id": "-wOYidBESWH8"
      },
      "source": [
        "## Случайный лес\n",
        "\n",
        "Для сравнения с нейросетевыми методами"
      ]
    },
    {
      "cell_type": "code",
      "metadata": {
        "id": "j2RWt-i5QcRf"
      },
      "source": [
        "from sklearn.ensemble import RandomForestClassifier\n",
        "from sklearn.metrics import classification_report\n",
        "from sklearn.model_selection import GridSearchCV\n",
        "\n",
        "forest = RandomForestClassifier(n_jobs=-1)\n"
      ],
      "execution_count": null,
      "outputs": []
    },
    {
      "cell_type": "code",
      "metadata": {
        "id": "7vB9H7uUQHHl",
        "colab": {
          "base_uri": "https://localhost:8080/"
        },
        "outputId": "ff7b5ed3-6ab7-4d01-b204-461eaaa9fc94"
      },
      "source": [
        "forest.fit(X_train, y_train)"
      ],
      "execution_count": null,
      "outputs": [
        {
          "output_type": "execute_result",
          "data": {
            "text/plain": [
              "RandomForestClassifier(bootstrap=True, ccp_alpha=0.0, class_weight=None,\n",
              "                       criterion='gini', max_depth=None, max_features='auto',\n",
              "                       max_leaf_nodes=None, max_samples=None,\n",
              "                       min_impurity_decrease=0.0, min_impurity_split=None,\n",
              "                       min_samples_leaf=1, min_samples_split=2,\n",
              "                       min_weight_fraction_leaf=0.0, n_estimators=100,\n",
              "                       n_jobs=-1, oob_score=False, random_state=None, verbose=0,\n",
              "                       warm_start=False)"
            ]
          },
          "metadata": {
            "tags": []
          },
          "execution_count": 14
        }
      ]
    },
    {
      "cell_type": "code",
      "metadata": {
        "id": "rbypB85CRnvv",
        "colab": {
          "base_uri": "https://localhost:8080/"
        },
        "outputId": "44762ab2-b46b-4b5a-8d44-c4c94b41e0ad"
      },
      "source": [
        "y_pred = forest.predict(X_test)\n",
        "\n",
        "print(classification_report(y_test, y_pred))"
      ],
      "execution_count": null,
      "outputs": [
        {
          "output_type": "stream",
          "text": [
            "              precision    recall  f1-score   support\n",
            "\n",
            "           0       0.98      0.99      0.98      1412\n",
            "           1       0.99      0.99      0.99      1555\n",
            "           2       0.95      0.97      0.96      1432\n",
            "           3       0.96      0.95      0.96      1426\n",
            "           4       0.97      0.97      0.97      1329\n",
            "           5       0.97      0.97      0.97      1199\n",
            "           6       0.97      0.98      0.98      1334\n",
            "           7       0.98      0.97      0.98      1493\n",
            "           8       0.96      0.95      0.96      1420\n",
            "           9       0.95      0.96      0.96      1400\n",
            "\n",
            "    accuracy                           0.97     14000\n",
            "   macro avg       0.97      0.97      0.97     14000\n",
            "weighted avg       0.97      0.97      0.97     14000\n",
            "\n"
          ],
          "name": "stdout"
        }
      ]
    },
    {
      "cell_type": "markdown",
      "metadata": {
        "id": "2WXAc0q1YLnp"
      },
      "source": [
        "## Keras CNN"
      ]
    },
    {
      "cell_type": "code",
      "metadata": {
        "id": "IXDCAcD_WweD"
      },
      "source": [
        "from keras.layers import Dense, Flatten, Dropout, Input, Concatenate\n",
        "from keras.layers import Conv2D, MaxPool2D, BatchNormalization\n",
        "from keras.layers.merge import concatenate\n",
        "from keras import Input, Model, Sequential # Documentation: https://keras.io/models/sequential/\n",
        "from keras import losses, optimizers\n",
        "\n",
        "from keras.callbacks import Callback  # для прерывая обучения по условию\n",
        "from keras import backend as K\n",
        "\n",
        "from tqdm.keras import TqdmCallback   # для прогресбаров для обучения в keras\n",
        "from sklearn.preprocessing import OneHotEncoder   # Keras хочет классы закодированные в one-hot"
      ],
      "execution_count": null,
      "outputs": []
    },
    {
      "cell_type": "markdown",
      "metadata": {
        "id": "VygAWbf6OD4T"
      },
      "source": [
        "#### Подготовка данных для CNN на keras"
      ]
    },
    {
      "cell_type": "code",
      "metadata": {
        "id": "Hnc2npajYVm-",
        "colab": {
          "base_uri": "https://localhost:8080/"
        },
        "outputId": "2a736386-85d3-4d9f-c649-7675b50e79d4"
      },
      "source": [
        "from sklearn.preprocessing import OneHotEncoder   # Keras хочет классы закодированные в one-hot\n",
        "onehot_enc = OneHotEncoder()  # понадобится для Keras\n",
        "onehot_enc.fit(  np.arange(10).reshape(-1,1) )  # reshape сделает столбец из строк единиченой длинны\n",
        "\n",
        "# берём ранее загруженные данные \n",
        "X_train1 = (X_train-128)/255\n",
        "# X_train[np.isnan(X_train)] = 0\n",
        "# исходно картинка -- массив, нужно сделать из него матрицу\n",
        "x_train_k = X_train1.reshape((X_train1.shape[0], 28, 28))\n",
        "x_train_k = np.expand_dims( x_train_k, axis=3 )\n",
        "y_train11 = onehot_enc.transform(y_train.reshape(-1,1))\n",
        "y_train_k = y_train11.toarray()\n",
        "\n",
        "\n",
        "X_test1 = (X_test-128)/255\n",
        "# X_test[np.isnan(X_test)] = 0\n",
        "x_test_k = X_test1.reshape((X_test1.shape[0], 28, 28))\n",
        "x_test_k = np.expand_dims( x_test_k, axis=3 )\n",
        "y_test11 = onehot_enc.transform(y_test.reshape(-1,1))\n",
        "y_test_k = y_test11.toarray()\n",
        "\n",
        "print(f\"трейн X: {x_train_k.shape[0]:d}\" )\n",
        "print(f\"трейн Y: {y_train_k.shape[0]:d}\" )\n",
        "print(f\"тест X: {x_test_k.shape[0]:d}\" )\n",
        "print(f\"тест Y: {y_test_k.shape[0]:d}\" )"
      ],
      "execution_count": null,
      "outputs": [
        {
          "output_type": "stream",
          "text": [
            "трейн X: 56000\n",
            "трейн Y: 56000\n",
            "тест X: 14000\n",
            "тест Y: 14000\n"
          ],
          "name": "stdout"
        }
      ]
    },
    {
      "cell_type": "code",
      "metadata": {
        "id": "o5yjUF_wb-9p",
        "colab": {
          "base_uri": "https://localhost:8080/",
          "height": 299
        },
        "outputId": "4dd36819-b883-4ff6-f37d-7474d32c654d"
      },
      "source": [
        "print( np.argmax(y_train_k[5]) )\n",
        "plt.imshow( x_train_k[5].reshape(28,28) )"
      ],
      "execution_count": null,
      "outputs": [
        {
          "output_type": "stream",
          "text": [
            "7\n"
          ],
          "name": "stdout"
        },
        {
          "output_type": "execute_result",
          "data": {
            "text/plain": [
              "<matplotlib.image.AxesImage at 0x7fdf6b066610>"
            ]
          },
          "metadata": {
            "tags": []
          },
          "execution_count": 18
        },
        {
          "output_type": "display_data",
          "data": {
            "image/png": "[encoded data removed]",
            "text/plain": [
              "<Figure size 432x288 with 1 Axes>"
            ]
          },
          "metadata": {
            "tags": [],
            "needs_background": "light"
          }
        }
      ]
    },
    {
      "cell_type": "markdown",
      "metadata": {
        "id": "8LIKdPRPOKzw"
      },
      "source": [
        " #### Построение модели"
      ]
    },
    {
      "cell_type": "markdown",
      "metadata": {
        "id": "s0TZWGLg2FSk"
      },
      "source": [
        "#### Актуальная модель"
      ]
    },
    {
      "cell_type": "code",
      "metadata": {
        "id": "d0bpcRfZHtdj",
        "colab": {
          "base_uri": "https://localhost:8080/"
        },
        "outputId": "9b37c4f0-ee46-4cab-84dc-595b951cb600"
      },
      "source": [
        "#создание модели\n",
        "model = Sequential()\n",
        "\n",
        "#добавляем слой\n",
        "model.add(Conv2D(filters = 64, kernel_size = (3,3), \n",
        "                 padding = 'Same',activation ='relu', input_shape = (28,28,1)))\n",
        "model.add(Conv2D(filters = 64, kernel_size = (3,3), \n",
        "                 padding = 'Same',activation ='relu', input_shape = (28,28,1)))\n",
        "model.add(Conv2D(filters = 64, kernel_size = (3,3), \n",
        "                 padding = 'Same',activation ='relu', input_shape = (28,28,1)))\n",
        "#MaxPooling2D — это способ уменьшить количество параметров в нашей модели, \n",
        "#переместив фильтр пула 2×2 по предыдущему слою и взяв максимум 4 значения в фильтре 2×2.\n",
        "model.add(MaxPool2D(pool_size=(2,2)))  # 14\n",
        "#метод регуляризации нашей модели с целью предотвращения переоснащения\n",
        "model.add(Dropout(0.25))\n",
        "# батчнорм только на этом слое приводит к резким паденями точности на валидации\n",
        "# видимо средние и стандаратные отклонения на трейне заметно отличаются от аналогичных на валидации\n",
        "model.add(Conv2D(filters = 128, kernel_size = (3,3), padding = 'Same', \n",
        "                 activation ='relu'))                     # 14\n",
        "model.add(Conv2D(filters = 128, kernel_size = (3,3), \n",
        "                 activation ='relu'))                     # 12\n",
        "model.add(Conv2D(filters = 128, kernel_size = (3,3), \n",
        "                 activation ='relu'))                     # 10\n",
        "model.add(MaxPool2D(pool_size=(2,2), strides=(2,2))) # 5\n",
        "model.add(Dropout(0.25))  \n",
        "\n",
        "\n",
        "model.add(Conv2D(filters = 256, kernel_size = (3,3), \n",
        "                   activation ='relu'))  # 3\n",
        "\n",
        "# Создаем вектор для полносвязной сети.\n",
        "# Flatten() – слой, преобразующий 2D-данные в 1D-данные.\n",
        "model.add(Flatten())\n",
        "\n",
        "# Создадим однослойный перцептрон\n",
        "model.add(Dense(320, activation = \"relu\"))\n",
        "model.add(Dropout(0.5))\n",
        "model.add(Dense(10, activation = \"softmax\"))\n",
        "\n",
        "#Далее, нам нужно скомпилировать нашу модель.\n",
        "# Компиляция модели использует три параметра: оптимизатор, потери и метрики.\n",
        "model.compile(optimizer = optimizers.Adam(learning_rate=0.005), \n",
        "              loss=losses.categorical_crossentropy,\n",
        "              metrics='accuracy')\n",
        "\n",
        "model.build(input_shape=(28,28, 1))\n",
        "#печатает краткое представление модели\n",
        "model.summary()\n",
        "\n",
        "\n",
        "# класс с коллбек функцией, которая останавливает обучение если достигната хорошая общая точность\n",
        "class StopWhenAccuracy(Callback):\n",
        "  def on_epoch_end(self, epoch, logs={}):\n",
        "    if logs.get('accuracy') > 0.9999:\n",
        "      print(\"Stop!\")\n",
        "      self.model.stop_training= True\n",
        "\n",
        "stop_condition =  StopWhenAccuracy()\n",
        "\n",
        "\n",
        "# чтобы графики строить\n",
        "AccTrain = []\n",
        "AccVal = []\n",
        "LossTrain = []\n",
        "LossVal = []\n",
        "TestAcc = []"
      ],
      "execution_count": null,
      "outputs": [
        {
          "output_type": "stream",
          "text": [
            "Model: \"sequential\"\n",
            "_________________________________________________________________\n",
            "Layer (type)                 Output Shape              Param #   \n",
            "=================================================================\n",
            "conv2d (Conv2D)              (None, 28, 28, 64)        640       \n",
            "_________________________________________________________________\n",
            "conv2d_1 (Conv2D)            (None, 28, 28, 64)        36928     \n",
            "_________________________________________________________________\n",
            "conv2d_2 (Conv2D)            (None, 28, 28, 64)        36928     \n",
            "_________________________________________________________________\n",
            "max_pooling2d (MaxPooling2D) (None, 14, 14, 64)        0         \n",
            "_________________________________________________________________\n",
            "dropout (Dropout)            (None, 14, 14, 64)        0         \n",
            "_________________________________________________________________\n",
            "conv2d_3 (Conv2D)            (None, 14, 14, 128)       73856     \n",
            "_________________________________________________________________\n",
            "conv2d_4 (Conv2D)            (None, 12, 12, 128)       147584    \n",
            "_________________________________________________________________\n",
            "conv2d_5 (Conv2D)            (None, 10, 10, 128)       147584    \n",
            "_________________________________________________________________\n",
            "max_pooling2d_1 (MaxPooling2 (None, 5, 5, 128)         0         \n",
            "_________________________________________________________________\n",
            "dropout_1 (Dropout)          (None, 5, 5, 128)         0         \n",
            "_________________________________________________________________\n",
            "conv2d_6 (Conv2D)            (None, 3, 3, 256)         295168    \n",
            "_________________________________________________________________\n",
            "flatten (Flatten)            (None, 2304)              0         \n",
            "_________________________________________________________________\n",
            "dense (Dense)                (None, 320)               737600    \n",
            "_________________________________________________________________\n",
            "dropout_2 (Dropout)          (None, 320)               0         \n",
            "_________________________________________________________________\n",
            "dense_1 (Dense)              (None, 10)                3210      \n",
            "=================================================================\n",
            "Total params: 1,479,498\n",
            "Trainable params: 1,479,498\n",
            "Non-trainable params: 0\n",
            "_________________________________________________________________\n"
          ],
          "name": "stdout"
        }
      ]
    },
    {
      "cell_type": "markdown",
      "metadata": {
        "id": "U8sDzi1Udd-M"
      },
      "source": [
        "#### Аугментация"
      ]
    },
    {
      "cell_type": "code",
      "metadata": {
        "id": "Df60Pg_Jddrw"
      },
      "source": [
        "# отделим валидационную выборку\n",
        "x_train_k1, x_val_k1, y_train_k1, y_val_k1 = train_test_split(x_train_k, y_train_k, test_size=0.05, random_state=24)\n",
        "\n",
        "train_im_gen = ImageDataGenerator(\n",
        "        featurewise_center=False,  # set input mean to 0 over the dataset\n",
        "        samplewise_center=False,  # set each sample mean to 0\n",
        "        featurewise_std_normalization=False,  # divide inputs by std of the dataset\n",
        "        samplewise_std_normalization=False,  # divide each input by its std\n",
        "        zca_whitening=False,  # apply ZCA whitening\n",
        "        rotation_range=10,  # randomly rotate images in the range (degrees, 0 to 180)\n",
        "        zoom_range = 0.1, # Randomly zoom image \n",
        "        width_shift_range=0.1,  # randomly shift images horizontally (fraction of total width)\n",
        "        height_shift_range=0.1,  # randomly shift images vertically (fraction of total height)\n",
        "        horizontal_flip=False,  # randomly flip images\n",
        "        vertical_flip=False)  # randomly flip images\n",
        "\n",
        "train_im_gen.fit(x_train_k1, seed=24)\n",
        "\n"
      ],
      "execution_count": null,
      "outputs": []
    },
    {
      "cell_type": "code",
      "metadata": {
        "id": "kLyICIMcpChf",
        "colab": {
          "base_uri": "https://localhost:8080/",
          "height": 299
        },
        "outputId": "4310d2ac-13e2-4a49-e5a0-70138ad1e0f2"
      },
      "source": [
        "i = int(np.random.uniform(0, 1000))\n",
        "print(np.argmax(y_val_k1[i]))\n",
        "plt.imshow(x_val_k1[i].reshape(28,28))"
      ],
      "execution_count": null,
      "outputs": [
        {
          "output_type": "stream",
          "text": [
            "4\n"
          ],
          "name": "stdout"
        },
        {
          "output_type": "execute_result",
          "data": {
            "text/plain": [
              "<matplotlib.image.AxesImage at 0x7fdf6aa6a710>"
            ]
          },
          "metadata": {
            "tags": []
          },
          "execution_count": 21
        },
        {
          "output_type": "display_data",
          "data": {
            "image/png": "[encoded data removed]",
            "text/plain": [
              "<Figure size 432x288 with 1 Axes>"
            ]
          },
          "metadata": {
            "tags": [],
            "needs_background": "light"
          }
        }
      ]
    },
    {
      "cell_type": "code",
      "metadata": {
        "id": "Ev4ll1Odo4Sz",
        "colab": {
          "base_uri": "https://localhost:8080/",
          "height": 282
        },
        "outputId": "0c811286-e953-4bac-8971-84a4909fdf7a"
      },
      "source": [
        "sb.histplot( np.argmax(y_val_k1, axis=1), discrete=True)"
      ],
      "execution_count": null,
      "outputs": [
        {
          "output_type": "execute_result",
          "data": {
            "text/plain": [
              "<matplotlib.axes._subplots.AxesSubplot at 0x7fdf6aa26dd0>"
            ]
          },
          "metadata": {
            "tags": []
          },
          "execution_count": 22
        },
        {
          "output_type": "display_data",
          "data": {
            "image/png": "[encoded data removed]",
            "text/plain": [
              "<Figure size 432x288 with 1 Axes>"
            ]
          },
          "metadata": {
            "tags": [],
            "needs_background": "light"
          }
        }
      ]
    },
    {
      "cell_type": "code",
      "metadata": {
        "id": "64MXePtTRIKs",
        "colab": {
          "base_uri": "https://localhost:8080/",
          "height": 265
        },
        "outputId": "3530c55a-6bb3-4c20-9e48-ca029cf91695"
      },
      "source": [
        "plt.imshow( train_im_gen.flow(x_train_k1, y_train_k1, batch_size=1).next()[0].reshape(28,28) )\n",
        "plt.show()"
      ],
      "execution_count": null,
      "outputs": [
        {
          "output_type": "display_data",
          "data": {
            "image/png": "[encoded data removed]",
            "text/plain": [
              "<Figure size 432x288 with 1 Axes>"
            ]
          },
          "metadata": {
            "tags": [],
            "needs_background": "light"
          }
        }
      ]
    },
    {
      "cell_type": "markdown",
      "metadata": {
        "id": "ESLePe96O7Cg"
      },
      "source": [
        "### Обучение"
      ]
    },
    {
      "cell_type": "code",
      "metadata": {
        "id": "frmwvm17ZXT5",
        "colab": {
          "base_uri": "https://localhost:8080/",
          "height": 896,
          "referenced_widgets": [
            "fab953d08e424c9fb210b240d8bde7f7",
            "a865d533966f490db07cab9ddc10b6ad",
            "37b243268bda40718e01ed27f281c1fb",
            "9a9450931e634cf1be71fd8cd4c5df45",
            "01a5246927894e7da4649216d6818dd0",
            "f3a94f4850704bd2b29cdf43bdac3608",
            "dd03247f5b9948f482bbbf381a3cfc1c",
            "ad4f4af8fca54aa6b052224bca1e6454",
            "4e5ade68594a4941b9ff4b225162f413",
            "88ee6708f06d4768bf66ffad5154d906",
            "64dd8b7cde524ed1a49ddb318823da64",
            "2768f80e673c48c18f0e3cd374eb3f8f",
            "adca2b20b534445ba4d0c077228860b8",
            "af1d7fa4b29a4ead9fab701789e78e2c",
            "ec1584cc057a4452aefd191c9ef4b9eb",
            "d720a9ed16504be9bced7f2043cc3832",
            "0b7a5fe9baf94da19da38fbaa597c790",
            "2005d09eff434291bbadebc25f8144fa",
            "1a2f584884e949e8abf670536fd16432",
            "7a5f5d35a028426183698774fdbc350d",
            "1a133a5a7248412fb5b32e3f43999a22",
            "2dd4ded338524f49a830b97e4e0b6f3c",
            "4dae736775974877b8138aec536f51a1",
            "3fbc1cb625594af3890dc75e4a518c0b",
            "ec4e11b9cd4149788a7656a3d8f1d34e",
            "cdeeb301edf945d9baee38e1587d8aa8",
            "d2a73d0abff94de599b96635fef7a829",
            "a49a9f2a2c484a7fa756c8e24e8d2180",
            "005cdb8ce85443eca4b5ae9264cb2d01",
            "6ad1f958892a46a5b481a9d5551c8a75",
            "5ef1de19ae49416a8a264fa66b99d854",
            "42d0449345484414b6189743657dad20",
            "f1f10050e63143e0ba245cbbc8d521bf",
            "c2f3bc559b2246299bcf239c17fa71bd",
            "66af15a6500a4777b6d6fe1850ecdfa3",
            "00e73235afa642f79c8ba1a05f9413ea",
            "7a1c2f16a87e4d34a2890dbdbfa4adad",
            "a2ac591b718e4256af9ef4a524503f75",
            "dd365c34447f4e67be05eebb0f8d85ec",
            "bccedb5871524c358cc0168fec071f09",
            "9b1f7bcd629c42a68b0e9576fee064f4",
            "f55693f160a54439a88b29f1afc9c547",
            "3c14014323a94ae78b406f5051c07de3",
            "1a13a953734445e98644fe9da0f9b002",
            "cb6ed2ffc62c4cd58e298b57b8f6b69d",
            "4ce2ed9e2dd74926bbe8c367a144e8be",
            "182c8b0cea4f44e6991c9a60a4aabe63",
            "d6bfbfc95d8346ac9bae27bc84e1851b",
            "430aeb0f6b2844c2ba2210ec84e6af47",
            "8d4fccd055b64b88aba5f46c042ce46a",
            "bb4f434c38d14771bafd79cc72f06b63",
            "a11503c6a07145ec948525b38115c014",
            "878de25ed0df47399bc4651e69ead038",
            "f5df9bb97bdd4d26b643c70101fd10de",
            "d1354b6b7757410e9643daa3cc76d6b8",
            "0164984e415b45ea8d5a5967513abac0",
            "6d08c60e51104c1d8caf47a2cda72863",
            "acb8d1c1706948b784297c3361cf0806",
            "a7a22fdfdd814cd39169306cbd428130",
            "997572bfece047a5aa89cb386efed2eb",
            "73ee9257c6ac453fb6fd675341fd6388",
            "069a185210e14ec39f61246a93a291e4",
            "6066073252a04aeb8b1ff7c5b23bfb88",
            "bcc02798283048e0a28dcea667e7a67c",
            "d3e57569b8a8440086c785f79a9b5915",
            "d29854acc35547279f0a40d4a3790493",
            "2817d25d8a3642ab8e071f13e6027a6d",
            "bd500706825b4a689a3542428a43541b",
            "be3e4566e2f14146bfd776dd30a0c75f",
            "832e2cf76f58408886680a330e8b5b28",
            "c93e0ec2cdfb49e9be92899279ee7f38",
            "b9d053fb5dbb41aba8531ccdfb600036",
            "d17ae3d519814799a41977b6961b3eb4",
            "68a95695989a40cd8af78015c6785773",
            "4fc524169e014b85b1455e61be9fddfc",
            "c51b452fd588441ca43fbb7f760dc463",
            "f824eb6afe1242a689f099fa715a8626",
            "ba1ac5dcd8074bfd8cc0bef340571d55",
            "cc8d4adc97ae4f0e94bf03dbc62e476c",
            "4a114067c50945f8b4a2c85de5f2596a",
            "5891d970b0af45a59c56462b5f78c5c2",
            "10b54632315b42279195c32c3be80ca1",
            "6e383a604e074b2bb3ca5676b365077e",
            "c4913178e0e74ad2857c2ced270f2ccb",
            "d4ec965c11634c10a0865057b5cec02b",
            "863b38b563774bd795db8194354bfb58",
            "715871bcdf4a40d8af6391468efc3b1f",
            "2345f991b2c14271a7d8a349560bdc1c"
          ]
        },
        "outputId": "50f1aeb1-f766-45a1-d09f-5bee50be603c"
      },
      "source": [
        "import tensorflow as tf\n",
        "\n",
        "# при необходимости можно повторить обучение с другим lr\n",
        "# K.set_value(model.optimizer.learning_rate, 0.0001)\n",
        "K.set_value(model.optimizer.learning_rate, 0.0001)\n",
        "\n",
        "with tf.device('/device:GPU:0'):\n",
        "  History = model.fit( train_im_gen.flow(x_train_k1, y_train_k1, batch_size=7000),\n",
        "                      validation_data = (x_val_k1, y_val_k1),\n",
        "                      callbacks = [stop_condition, TqdmCallback(verbose=2)],  # вместо общего verbose TqdmCallback(verbose=2) который будет показывать прогресс по батчам  \n",
        "                      epochs=10) \n",
        "\n",
        "  # History = model.fit( x_train_k, y_train_k, batch_size=7000,\n",
        "  #                   validation_split=0.05,\n",
        "  #                   callbacks = [stop_condition, TqdmCallback(verbose=2)],  # вместо общего verbose TqdmCallback(verbose=2) который будет показывать прогресс по батчам  \n",
        "  #                   epochs=10) \n",
        "\n",
        "AccTrain += History.history['accuracy']\n",
        "AccVal +=   History.history['val_accuracy']\n",
        "LossTrain += History.history['loss']\n",
        "LossVal +=   History.history['val_loss']"
      ],
      "execution_count": null,
      "outputs": [
        {
          "output_type": "display_data",
          "data": {
            "application/vnd.jupyter.widget-view+json": {
              "model_id": "fab953d08e424c9fb210b240d8bde7f7",
              "version_minor": 0,
              "version_major": 2
            },
            "text/plain": [
              "HBox(children=(FloatProgress(value=1.0, bar_style='info', max=1.0), HTML(value='')))"
            ]
          },
          "metadata": {
            "tags": []
          }
        },
        {
          "output_type": "stream",
          "text": [
            "Epoch 1/10\n"
          ],
          "name": "stdout"
        },
        {
          "output_type": "display_data",
          "data": {
            "application/vnd.jupyter.widget-view+json": {
              "model_id": "4e5ade68594a4941b9ff4b225162f413",
              "version_minor": 0,
              "version_major": 2
            },
            "text/plain": [
              "HBox(children=(FloatProgress(value=0.0, max=8.0), HTML(value='')))"
            ]
          },
          "metadata": {
            "tags": []
          }
        },
        {
          "output_type": "stream",
          "text": [
            "8/8 [==============================] - 80s 3s/step - loss: 2.3005 - accuracy: 0.1275 - val_loss: 2.2811 - val_accuracy: 0.2979\n",
            "Epoch 2/10\n",
            "\n"
          ],
          "name": "stdout"
        },
        {
          "output_type": "display_data",
          "data": {
            "application/vnd.jupyter.widget-view+json": {
              "model_id": "0b7a5fe9baf94da19da38fbaa597c790",
              "version_minor": 0,
              "version_major": 2
            },
            "text/plain": [
              "HBox(children=(FloatProgress(value=0.0, max=8.0), HTML(value='')))"
            ]
          },
          "metadata": {
            "tags": []
          }
        },
        {
          "output_type": "stream",
          "text": [
            "8/8 [==============================] - 14s 2s/step - loss: 2.2801 - accuracy: 0.2006 - val_loss: 2.1692 - val_accuracy: 0.4879\n",
            "Epoch 3/10\n",
            "\n"
          ],
          "name": "stdout"
        },
        {
          "output_type": "display_data",
          "data": {
            "application/vnd.jupyter.widget-view+json": {
              "model_id": "ec4e11b9cd4149788a7656a3d8f1d34e",
              "version_minor": 0,
              "version_major": 2
            },
            "text/plain": [
              "HBox(children=(FloatProgress(value=0.0, max=8.0), HTML(value='')))"
            ]
          },
          "metadata": {
            "tags": []
          }
        },
        {
          "output_type": "stream",
          "text": [
            "8/8 [==============================] - 15s 2s/step - loss: 2.1769 - accuracy: 0.2994 - val_loss: 1.7029 - val_accuracy: 0.6493\n",
            "Epoch 4/10\n",
            "\n"
          ],
          "name": "stdout"
        },
        {
          "output_type": "display_data",
          "data": {
            "application/vnd.jupyter.widget-view+json": {
              "model_id": "f1f10050e63143e0ba245cbbc8d521bf",
              "version_minor": 0,
              "version_major": 2
            },
            "text/plain": [
              "HBox(children=(FloatProgress(value=0.0, max=8.0), HTML(value='')))"
            ]
          },
          "metadata": {
            "tags": []
          }
        },
        {
          "output_type": "stream",
          "text": [
            "8/8 [==============================] - 15s 2s/step - loss: 1.8420 - accuracy: 0.3944 - val_loss: 0.9983 - val_accuracy: 0.7175\n",
            "Epoch 5/10\n",
            "\n"
          ],
          "name": "stdout"
        },
        {
          "output_type": "display_data",
          "data": {
            "application/vnd.jupyter.widget-view+json": {
              "model_id": "9b1f7bcd629c42a68b0e9576fee064f4",
              "version_minor": 0,
              "version_major": 2
            },
            "text/plain": [
              "HBox(children=(FloatProgress(value=0.0, max=8.0), HTML(value='')))"
            ]
          },
          "metadata": {
            "tags": []
          }
        },
        {
          "output_type": "stream",
          "text": [
            "8/8 [==============================] - 15s 2s/step - loss: 1.4910 - accuracy: 0.4810 - val_loss: 0.7762 - val_accuracy: 0.7932\n",
            "Epoch 6/10\n",
            "\n"
          ],
          "name": "stdout"
        },
        {
          "output_type": "display_data",
          "data": {
            "application/vnd.jupyter.widget-view+json": {
              "model_id": "430aeb0f6b2844c2ba2210ec84e6af47",
              "version_minor": 0,
              "version_major": 2
            },
            "text/plain": [
              "HBox(children=(FloatProgress(value=0.0, max=8.0), HTML(value='')))"
            ]
          },
          "metadata": {
            "tags": []
          }
        },
        {
          "output_type": "stream",
          "text": [
            "8/8 [==============================] - 15s 2s/step - loss: 1.2776 - accuracy: 0.5614 - val_loss: 0.5811 - val_accuracy: 0.8289\n",
            "Epoch 7/10\n",
            "\n"
          ],
          "name": "stdout"
        },
        {
          "output_type": "display_data",
          "data": {
            "application/vnd.jupyter.widget-view+json": {
              "model_id": "6d08c60e51104c1d8caf47a2cda72863",
              "version_minor": 0,
              "version_major": 2
            },
            "text/plain": [
              "HBox(children=(FloatProgress(value=0.0, max=8.0), HTML(value='')))"
            ]
          },
          "metadata": {
            "tags": []
          }
        },
        {
          "output_type": "stream",
          "text": [
            "8/8 [==============================] - 15s 2s/step - loss: 1.1055 - accuracy: 0.6260 - val_loss: 0.4717 - val_accuracy: 0.8514\n",
            "Epoch 8/10\n",
            "\n"
          ],
          "name": "stdout"
        },
        {
          "output_type": "display_data",
          "data": {
            "application/vnd.jupyter.widget-view+json": {
              "model_id": "d3e57569b8a8440086c785f79a9b5915",
              "version_minor": 0,
              "version_major": 2
            },
            "text/plain": [
              "HBox(children=(FloatProgress(value=0.0, max=8.0), HTML(value='')))"
            ]
          },
          "metadata": {
            "tags": []
          }
        },
        {
          "output_type": "stream",
          "text": [
            "8/8 [==============================] - 15s 2s/step - loss: 0.9208 - accuracy: 0.6969 - val_loss: 0.3278 - val_accuracy: 0.9064\n",
            "Epoch 9/10\n",
            "\n"
          ],
          "name": "stdout"
        },
        {
          "output_type": "display_data",
          "data": {
            "application/vnd.jupyter.widget-view+json": {
              "model_id": "d17ae3d519814799a41977b6961b3eb4",
              "version_minor": 0,
              "version_major": 2
            },
            "text/plain": [
              "HBox(children=(FloatProgress(value=0.0, max=8.0), HTML(value='')))"
            ]
          },
          "metadata": {
            "tags": []
          }
        },
        {
          "output_type": "stream",
          "text": [
            "8/8 [==============================] - 15s 2s/step - loss: 0.7652 - accuracy: 0.7472 - val_loss: 0.2763 - val_accuracy: 0.9168\n",
            "Epoch 10/10\n",
            "\n"
          ],
          "name": "stdout"
        },
        {
          "output_type": "display_data",
          "data": {
            "application/vnd.jupyter.widget-view+json": {
              "model_id": "5891d970b0af45a59c56462b5f78c5c2",
              "version_minor": 0,
              "version_major": 2
            },
            "text/plain": [
              "HBox(children=(FloatProgress(value=0.0, max=8.0), HTML(value='')))"
            ]
          },
          "metadata": {
            "tags": []
          }
        },
        {
          "output_type": "stream",
          "text": [
            "8/8 [==============================] - 15s 2s/step - loss: 0.6524 - accuracy: 0.7877 - val_loss: 0.2447 - val_accuracy: 0.9254\n",
            "\n",
            "\n"
          ],
          "name": "stdout"
        }
      ]
    },
    {
      "cell_type": "code",
      "metadata": {
        "id": "8aT6T8K2auFI",
        "colab": {
          "base_uri": "https://localhost:8080/",
          "height": 885
        },
        "outputId": "b7d1b1b3-1bc2-49a3-b34b-81bc0e952be1"
      },
      "source": [
        "# построим кривые обучения\n",
        "plt.figure( figsize=(12,7) )\n",
        "plt.title('accuracy')\n",
        "plt.plot( AccVal, '*-', label='val')\n",
        "plt.plot( AccTrain,     '*-', label='train')\n",
        "plt.xlabel('эпохи')\n",
        "plt.legend(loc=0)\n",
        "plt.grid()\n",
        "plt.show()\n",
        "\n",
        "\n",
        "plt.figure( figsize=(12,7) )\n",
        "plt.title('loss')\n",
        "plt.plot( LossVal, '*-', label='val')\n",
        "plt.plot( LossTrain,     '*-', label='train')\n",
        "plt.legend(loc=0)\n",
        "plt.grid()\n",
        "plt.show()"
      ],
      "execution_count": null,
      "outputs": [
        {
          "output_type": "display_data",
          "data": {
            "image/png": "[encoded data removed]",
            "text/plain": [
              "<Figure size 864x504 with 1 Axes>"
            ]
          },
          "metadata": {
            "tags": [],
            "needs_background": "light"
          }
        },
        {
          "output_type": "display_data",
          "data": {
            "image/png": "[encoded data removed]",
            "text/plain": [
              "<Figure size 864x504 with 1 Axes>"
            ]
          },
          "metadata": {
            "tags": [],
            "needs_background": "light"
          }
        }
      ]
    },
    {
      "cell_type": "markdown",
      "metadata": {
        "id": "cQMED1gIPBUW"
      },
      "source": [
        "### Финальная оценка на тесте"
      ]
    },
    {
      "cell_type": "code",
      "metadata": {
        "id": "Z8zfYLlpPVey",
        "colab": {
          "base_uri": "https://localhost:8080/"
        },
        "outputId": "97e83640-93d4-432b-da5d-957fdbd97913"
      },
      "source": [
        "y_pred = model.predict( x_test_k )\n",
        "y_pred = onehot_enc.inverse_transform(y_pred)\n",
        "\n",
        "print( classification_report(y_test, y_pred, digits=4) )\n",
        "\n",
        "TestAcc += [ accuracy_score(y_test, y_pred)]\n",
        "print( TestAcc[-1] )\n",
        "\n",
        "print( TestAcc )"
      ],
      "execution_count": null,
      "outputs": [
        {
          "output_type": "stream",
          "text": [
            "              precision    recall  f1-score   support\n",
            "\n",
            "           0     0.9556    0.9610    0.9583      1412\n",
            "           1     0.9863    0.9723    0.9793      1555\n",
            "           2     0.9350    0.9246    0.9298      1432\n",
            "           3     0.8688    0.9565    0.9105      1426\n",
            "           4     0.9804    0.8668    0.9201      1329\n",
            "           5     0.9543    0.9058    0.9294      1199\n",
            "           6     0.9108    0.9565    0.9331      1334\n",
            "           7     0.9727    0.8607    0.9133      1493\n",
            "           8     0.8748    0.9296    0.9013      1420\n",
            "           9     0.8543    0.9257    0.8886      1400\n",
            "\n",
            "    accuracy                         0.9266     14000\n",
            "   macro avg     0.9293    0.9260    0.9264     14000\n",
            "weighted avg     0.9295    0.9266    0.9268     14000\n",
            "\n",
            "0.9265714285714286\n",
            "[0.9265714285714286]\n"
          ],
          "name": "stdout"
        }
      ]
    },
    {
      "cell_type": "markdown",
      "metadata": {
        "id": "mXt24NufqHMn"
      },
      "source": [
        "###Выводы"
      ]
    },
    {
      "cell_type": "markdown",
      "metadata": {
        "id": "5yE7SW1ko6RR"
      },
      "source": [
        "По результатам сверточной сети, можно понять:\n",
        "*   что 1 распознается правильно больше остальных цифр, с точностью 0.9793\n",
        "*   а 9 распознается правильно меньше остальных, с точностью 0.8886\n"
      ]
    }
  ]
}